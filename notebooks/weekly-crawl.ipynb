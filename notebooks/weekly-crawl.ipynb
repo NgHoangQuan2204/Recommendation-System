{
 "cells": [
  {
   "cell_type": "markdown",
   "metadata": {},
   "source": [
    "# Trong trường hợp chạy trên kaggle, commentate phần đọc từ đường dẫn VS Code và ngược lại"
   ]
  },
  {
   "cell_type": "code",
   "execution_count": 1,
   "metadata": {
    "_cell_guid": "b1076dfc-b9ad-4769-8c92-a6c4dae69d19",
    "_uuid": "8f2839f25d086af736a60e9eeb907d3b93b6e0e5",
    "execution": {
     "iopub.execute_input": "2024-11-30T16:15:19.024584Z",
     "iopub.status.busy": "2024-11-30T16:15:19.024188Z",
     "iopub.status.idle": "2024-11-30T16:15:19.088517Z",
     "shell.execute_reply": "2024-11-30T16:15:19.087090Z",
     "shell.execute_reply.started": "2024-11-30T16:15:19.024546Z"
    },
    "trusted": true
   },
   "outputs": [],
   "source": [
    "import pandas as pd\n",
    "import requests\n",
    "import time\n",
    "\n",
    "# # Config cho kaggle\n",
    "# import os\n",
    "# for dirname, _, filenames in os.walk('/kaggle/input'):\n",
    "#     for filename in filenames:\n",
    "#         print(os.path.join(dirname, filename))"
   ]
  },
  {
   "cell_type": "code",
   "execution_count": 2,
   "metadata": {},
   "outputs": [],
   "source": [
    "# # Đọc từ đường dẫn kaggle\n",
    "# file_path = '/kaggle/input/full_movie_data.csv'\n",
    "# df = pd.read_csv(file_path)\n",
    "\n",
    "# df_update = df[df['Status'] == 'Ongoing']['Title']\n",
    "# df_update"
   ]
  },
  {
   "cell_type": "code",
   "execution_count": 3,
   "metadata": {},
   "outputs": [
    {
     "name": "stderr",
     "output_type": "stream",
     "text": [
      "C:\\Users\\kdat1\\AppData\\Local\\Temp\\ipykernel_9852\\158983895.py:2: DtypeWarning: Columns (23,28) have mixed types. Specify dtype option on import or set low_memory=False.\n",
      "  df = pd.read_csv('../data/raw/full_movie_data.csv')\n"
     ]
    },
    {
     "data": {
      "text/plain": [
       "4978     Louis Theroux: Law & Disorder\n",
       "69901                       Oshi no Ko\n",
       "72436          A Condition Called Love\n",
       "72446          Bang Brave Bang Bravern\n",
       "72450                     The New Look\n",
       "                     ...              \n",
       "73429          The Righteous Gemstones\n",
       "73430                    Hart to Heart\n",
       "73431        Stubbe - Von Fall zu Fall\n",
       "73432                Garota do Momento\n",
       "73434                     Star Academy\n",
       "Name: Title, Length: 818, dtype: object"
      ]
     },
     "execution_count": 3,
     "metadata": {},
     "output_type": "execute_result"
    }
   ],
   "source": [
    "# Đọc từ đường dẫn VS Code\n",
    "df = pd.read_csv('../data/raw/full_movie_data.csv')\n",
    "df_update = df[df['Status'] == 'Ongoing']['Title']\n",
    "df_update"
   ]
  },
  {
   "cell_type": "code",
   "execution_count": 4,
   "metadata": {
    "execution": {
     "iopub.execute_input": "2024-11-30T16:37:41.931861Z",
     "iopub.status.busy": "2024-11-30T16:37:41.931434Z",
     "iopub.status.idle": "2024-11-30T16:37:42.023130Z",
     "shell.execute_reply": "2024-11-30T16:37:42.022002Z",
     "shell.execute_reply.started": "2024-11-30T16:37:41.931802Z"
    },
    "trusted": true
   },
   "outputs": [
    {
     "data": {
      "text/plain": [
       "4978               Louis Theroux: Law & Disorder\n",
       "69901                                 Oshi no Ko\n",
       "72436                    A Condition Called Love\n",
       "72446                    Bang Brave Bang Bravern\n",
       "72450                               The New Look\n",
       "                          ...                   \n",
       "15                   THE iDOLM@STER SHINY COLORS\n",
       "16                               On Patrol: Live\n",
       "17                            Moonflower Murders\n",
       "18       Sai-Kyo-Oh! Zukan: The Ultimate Battles\n",
       "19                                     Marry YOU\n",
       "Length: 978, dtype: object"
      ]
     },
     "execution_count": 4,
     "metadata": {},
     "output_type": "execute_result"
    }
   ],
   "source": [
    "df_tv = pd.DataFrame()\n",
    "\n",
    "for page in range(1,5):\n",
    "    # URL API\n",
    "    url = \"https://api.themoviedb.org/3/tv/on_the_air?\"\n",
    "    params = {\n",
    "        \"api_key\": \"234da40a2c2c86ddae7089772282eae4\",\n",
    "        \"language\": \"en-US\",\n",
    "        \"page\": page\n",
    "        \n",
    "    }\n",
    "\n",
    "    # Gửi yêu cầu GET tới API\n",
    "    response = requests.get(url, params=params)\n",
    "\n",
    "    # Kiểm tra nếu yêu cầu thành công\n",
    "    if response.status_code == 200:\n",
    "        data = response.json()\n",
    "        # Trích xuất danh sách các phim từ kết quả JSON\n",
    "        movies = data.get('results', [])\n",
    "        \n",
    "        # Chuyển dữ liệu thành DataFrame\n",
    "        df_tv = pd.concat([df_tv, pd.DataFrame(movies)])\n",
    "\n",
    "    # URL API\n",
    "    url = \"https://api.themoviedb.org/3/tv/airing_today?\"\n",
    "    params = {\n",
    "        \"api_key\": \"234da40a2c2c86ddae7089772282eae4\",\n",
    "        \"language\": \"en-US\",\n",
    "        \"page\": page\n",
    "    }\n",
    "\n",
    "    # Gửi yêu cầu GET tới API\n",
    "    response = requests.get(url, params=params)\n",
    "\n",
    "    # Kiểm tra nếu yêu cầu thành công\n",
    "    if response.status_code == 200:\n",
    "        data = response.json()\n",
    "        # Trích xuất danh sách các phim từ kết quả JSON\n",
    "        movies = data.get('results', [])\n",
    "        \n",
    "        # Chuyển dữ liệu thành DataFrame\n",
    "        df_tv = pd.concat([df_tv, pd.DataFrame(movies)])\n",
    "\n",
    "df_update = pd.concat([df_update, df_tv['name']])\n",
    "df_update"
   ]
  },
  {
   "cell_type": "code",
   "execution_count": 5,
   "metadata": {
    "execution": {
     "iopub.execute_input": "2024-11-30T16:38:46.637388Z",
     "iopub.status.busy": "2024-11-30T16:38:46.637009Z",
     "iopub.status.idle": "2024-11-30T16:38:46.981551Z",
     "shell.execute_reply": "2024-11-30T16:38:46.980484Z",
     "shell.execute_reply.started": "2024-11-30T16:38:46.637354Z"
    },
    "trusted": true
   },
   "outputs": [
    {
     "data": {
      "text/plain": [
       "4978                Louis Theroux: Law & Disorder\n",
       "69901                                  Oshi no Ko\n",
       "72436                     A Condition Called Love\n",
       "72446                     Bang Brave Bang Bravern\n",
       "72450                                The New Look\n",
       "                           ...                   \n",
       "15                                 Beating Hearts\n",
       "16       How to Make Millions Before Grandma Dies\n",
       "17                            The Dead Don't Hurt\n",
       "18                                     Emmanuelle\n",
       "19                                         Pin/Ya\n",
       "Length: 1138, dtype: object"
      ]
     },
     "execution_count": 5,
     "metadata": {},
     "output_type": "execute_result"
    }
   ],
   "source": [
    "df_mv = pd.DataFrame()\n",
    "\n",
    "for page in range(1,5):\n",
    "    # URL API\n",
    "    url = \"https://api.themoviedb.org/3/movie/now_playing?\"\n",
    "    params = {\n",
    "        \"api_key\": \"234da40a2c2c86ddae7089772282eae4\",\n",
    "        \"language\": \"en-US\",\n",
    "        \"page\": page\n",
    "    }\n",
    "\n",
    "    # Gửi yêu cầu GET tới API\n",
    "    response = requests.get(url, params=params)\n",
    "\n",
    "    # Kiểm tra nếu yêu cầu thành công\n",
    "    if response.status_code == 200:\n",
    "        data = response.json()\n",
    "        # Trích xuất danh sách các phim từ kết quả JSON\n",
    "        movies = data.get('results', [])\n",
    "        \n",
    "        # Chuyển dữ liệu thành DataFrame\n",
    "        df_mv = pd.concat([df_mv, pd.DataFrame(movies)])\n",
    "\n",
    "    # URL API\n",
    "    url = \"https://api.themoviedb.org/3/movie/upcoming?\"\n",
    "    params = {\n",
    "        \"api_key\": \"234da40a2c2c86ddae7089772282eae4\",\n",
    "        \"language\": \"en-US\",\n",
    "        \"page\": page\n",
    "    }\n",
    "\n",
    "    # Gửi yêu cầu GET tới API\n",
    "    response = requests.get(url, params=params)\n",
    "\n",
    "    # Kiểm tra nếu yêu cầu thành công\n",
    "    if response.status_code == 200:\n",
    "        data = response.json()\n",
    "        # Trích xuất danh sách các phim từ kết quả JSON\n",
    "        movies = data.get('results', [])\n",
    "        \n",
    "        # Chuyển dữ liệu thành DataFrame\n",
    "        df_mv = pd.concat([df_mv, pd.DataFrame(movies)])\n",
    "\n",
    "df_update = pd.concat([df_update, df_mv['title']])\n",
    "df_update"
   ]
  },
  {
   "cell_type": "code",
   "execution_count": 6,
   "metadata": {
    "execution": {
     "iopub.execute_input": "2024-11-30T16:39:23.270198Z",
     "iopub.status.busy": "2024-11-30T16:39:23.269623Z",
     "iopub.status.idle": "2024-11-30T16:39:23.282493Z",
     "shell.execute_reply": "2024-11-30T16:39:23.281217Z",
     "shell.execute_reply.started": "2024-11-30T16:39:23.270141Z"
    },
    "trusted": true
   },
   "outputs": [
    {
     "data": {
      "text/plain": [
       "4978                Louis Theroux: Law & Disorder\n",
       "69901                                  Oshi no Ko\n",
       "72436                     A Condition Called Love\n",
       "72446                     Bang Brave Bang Bravern\n",
       "72450                                The New Look\n",
       "                           ...                   \n",
       "14                                     The Outrun\n",
       "15                                 Beating Hearts\n",
       "16       How to Make Millions Before Grandma Dies\n",
       "17                            The Dead Don't Hurt\n",
       "19                                         Pin/Ya\n",
       "Length: 1076, dtype: object"
      ]
     },
     "execution_count": 6,
     "metadata": {},
     "output_type": "execute_result"
    }
   ],
   "source": [
    "df_update = df_update.drop_duplicates(keep= 'first')\n",
    "\n",
    "df_update"
   ]
  },
  {
   "cell_type": "code",
   "execution_count": 7,
   "metadata": {
    "execution": {
     "iopub.execute_input": "2024-11-30T16:39:38.043741Z",
     "iopub.status.busy": "2024-11-30T16:39:38.043306Z",
     "iopub.status.idle": "2024-11-30T16:39:38.049280Z",
     "shell.execute_reply": "2024-11-30T16:39:38.048030Z",
     "shell.execute_reply.started": "2024-11-30T16:39:38.043703Z"
    },
    "trusted": true
   },
   "outputs": [],
   "source": [
    "api_key_list = ['8f5aa155', 'dbd262c8', '8a9f3511', 'b0ead728','2d918779', '817e9847', '6d85304', 'c05a60d1', '7c616a06', 'f8711aaf', '8e22b5b']"
   ]
  },
  {
   "cell_type": "code",
   "execution_count": 8,
   "metadata": {
    "execution": {
     "iopub.execute_input": "2024-11-30T16:39:40.109405Z",
     "iopub.status.busy": "2024-11-30T16:39:40.108992Z",
     "iopub.status.idle": "2024-11-30T16:39:40.115029Z",
     "shell.execute_reply": "2024-11-30T16:39:40.113912Z",
     "shell.execute_reply.started": "2024-11-30T16:39:40.109370Z"
    },
    "trusted": true
   },
   "outputs": [],
   "source": [
    "def get_movie_data(title, api_key):\n",
    "    url = f\"http://www.omdbapi.com/?t={title}&apikey={api_key}\"\n",
    "    response = requests.get(url)\n",
    "    if response.status_code == 200:\n",
    "        return response.json()  # Trả về dữ liệu JSON từ OMDB API\n",
    "    else:\n",
    "        return None"
   ]
  },
  {
   "cell_type": "code",
   "execution_count": 9,
   "metadata": {
    "execution": {
     "iopub.execute_input": "2024-11-30T16:39:42.428612Z",
     "iopub.status.busy": "2024-11-30T16:39:42.428221Z",
     "iopub.status.idle": "2024-11-30T16:39:42.435854Z",
     "shell.execute_reply": "2024-11-30T16:39:42.434239Z",
     "shell.execute_reply.started": "2024-11-30T16:39:42.428575Z"
    },
    "trusted": true
   },
   "outputs": [],
   "source": [
    "# Chia DataFrame thành các khối với mỗi khối 1000 dòng\n",
    "def crawl_movies_by_api_keys(df, api_key_list):\n",
    "    start = 0\n",
    "    chunk_size = 1000\n",
    "    for i, api_key in enumerate(api_key_list):\n",
    "        # Xác định phần của DataFrame dựa trên vị trí\n",
    "        chunk = df.iloc[start:start + chunk_size]\n",
    "        \n",
    "        # Nếu chunk rỗng, nghĩa là hết dữ liệu để crawl\n",
    "        if chunk.empty:\n",
    "            break\n",
    "        \n",
    "        # Crawl thông tin phim cho từng imdbId trong chunk\n",
    "        for title in chunk:\n",
    "            movie_info = get_movie_data(title, api_key)\n",
    "            if movie_info and movie_info.get('Response') == 'True':\n",
    "                movie_data.append(movie_info)\n",
    "        \n",
    "        # Cập nhật vị trí bắt đầu cho chunk tiếp theo\n",
    "        start += chunk_size"
   ]
  },
  {
   "cell_type": "code",
   "execution_count": 10,
   "metadata": {
    "execution": {
     "iopub.execute_input": "2024-11-30T16:39:46.031639Z",
     "iopub.status.busy": "2024-11-30T16:39:46.031218Z",
     "iopub.status.idle": "2024-11-30T16:41:11.765893Z",
     "shell.execute_reply": "2024-11-30T16:41:11.764629Z",
     "shell.execute_reply.started": "2024-11-30T16:39:46.031601Z"
    },
    "trusted": true
   },
   "outputs": [
    {
     "name": "stdout",
     "output_type": "stream",
     "text": [
      "Đã lưu thông tin phim vào file: ../data/raw/full_movie_data.csv\n"
     ]
    }
   ],
   "source": [
    "# Danh sách để lưu thông tin phim\n",
    "movie_data = []\n",
    "\n",
    "# Gọi hàm để crawl dữ liệu phim\n",
    "crawl_movies_by_api_keys(df_update, api_key_list)\n",
    "\n",
    "# Chuyển đổi dữ liệu sang DataFrame\n",
    "df_movies = pd.DataFrame(movie_data)\n",
    "\n",
    "status = []\n",
    "for i in df_movies['Year']:\n",
    "    if '–1' in i or '–2' in i or '–' not in i: status.append('Finished')\n",
    "    else: status.append('Ongoing') \n",
    "df_movies['Status'] = status\n",
    "\n",
    "df = pd.concat([df, df_movies])\n",
    "df = df.drop_duplicates(subset= ['Title'], keep= 'last')\n",
    "\n",
    "# Lưu dữ liệu phim vào file CSV mới\n",
    "output_file = '../data/raw/full_movie_data.csv'\n",
    "df.to_csv(output_file, index=False)\n",
    "\n",
    "print(f\"Đã lưu thông tin phim vào file: {output_file}\")"
   ]
  }
 ],
 "metadata": {
  "kaggle": {
   "accelerator": "none",
   "dataSources": [
    {
     "datasetId": 5858881,
     "sourceId": 9607885,
     "sourceType": "datasetVersion"
    },
    {
     "datasetId": 6038884,
     "sourceId": 9843275,
     "sourceType": "datasetVersion"
    }
   ],
   "dockerImageVersionId": 30786,
   "isGpuEnabled": false,
   "isInternetEnabled": true,
   "language": "python",
   "sourceType": "notebook"
  },
  "kernelspec": {
   "display_name": "Python 3",
   "language": "python",
   "name": "python3"
  },
  "language_info": {
   "codemirror_mode": {
    "name": "ipython",
    "version": 3
   },
   "file_extension": ".py",
   "mimetype": "text/x-python",
   "name": "python",
   "nbconvert_exporter": "python",
   "pygments_lexer": "ipython3",
   "version": "3.12.7"
  }
 },
 "nbformat": 4,
 "nbformat_minor": 4
}
